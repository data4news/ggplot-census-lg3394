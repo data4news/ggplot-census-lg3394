{
 "cells": [
  {
   "cell_type": "code",
   "execution_count": 3,
   "id": "05a64316-06f4-47db-b713-a6906b14d09c",
   "metadata": {},
   "outputs": [],
   "source": [
    "CENSUS_API_KEY = \"9b315cfaf570bf06e8206cb8cde6b5a0dc021c7b\""
   ]
  },
  {
   "cell_type": "code",
   "execution_count": 4,
   "id": "683d3602-1aad-4d9e-922e-4cda9d374900",
   "metadata": {},
   "outputs": [
    {
     "data": {
      "text/plain": [
       "False"
      ]
     },
     "execution_count": 4,
     "metadata": {},
     "output_type": "execute_result"
    }
   ],
   "source": [
    "from dotenv import load_dotenv\n",
    "load_dotenv()"
   ]
  },
  {
   "cell_type": "code",
   "execution_count": null,
   "id": "54d1dbb0-5c17-4b1e-a5f4-6f387eb04ad6",
   "metadata": {},
   "outputs": [],
   "source": []
  }
 ],
 "metadata": {
  "kernelspec": {
   "display_name": "Python 3 (ipykernel)",
   "language": "python",
   "name": "python3"
  },
  "language_info": {
   "codemirror_mode": {
    "name": "ipython",
    "version": 3
   },
   "file_extension": ".py",
   "mimetype": "text/x-python",
   "name": "python",
   "nbconvert_exporter": "python",
   "pygments_lexer": "ipython3",
   "version": "3.11.8"
  }
 },
 "nbformat": 4,
 "nbformat_minor": 5
}
